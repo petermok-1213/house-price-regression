{
 "cells": [
  {
   "cell_type": "code",
   "execution_count": 1,
   "metadata": {},
   "outputs": [],
   "source": [
    "import pandas as pd\n",
    "from sklearn.ensemble import RandomForestRegressor\n",
    "from sklearn.metrics import mean_absolute_error\n",
    "from sklearn.preprocessing import OneHotEncoder\n",
    "from sklearn.preprocessing import OrdinalEncoder"
   ]
  },
  {
   "cell_type": "code",
   "execution_count": 2,
   "metadata": {},
   "outputs": [
    {
     "data": {
      "text/plain": [
       "Index(['Id', 'MSSubClass', 'MSZoning', 'LotFrontage', 'LotArea', 'Street',\n",
       "       'Alley', 'LotShape', 'LandContour', 'Utilities', 'LotConfig',\n",
       "       'LandSlope', 'Neighborhood', 'Condition1', 'Condition2', 'BldgType',\n",
       "       'HouseStyle', 'OverallQual', 'OverallCond', 'YearBuilt', 'YearRemodAdd',\n",
       "       'RoofStyle', 'RoofMatl', 'Exterior1st', 'Exterior2nd', 'MasVnrType',\n",
       "       'MasVnrArea', 'ExterQual', 'ExterCond', 'Foundation', 'BsmtQual',\n",
       "       'BsmtCond', 'BsmtExposure', 'BsmtFinType1', 'BsmtFinSF1',\n",
       "       'BsmtFinType2', 'BsmtFinSF2', 'BsmtUnfSF', 'TotalBsmtSF', 'Heating',\n",
       "       'HeatingQC', 'CentralAir', 'Electrical', '1stFlrSF', '2ndFlrSF',\n",
       "       'LowQualFinSF', 'GrLivArea', 'BsmtFullBath', 'BsmtHalfBath', 'FullBath',\n",
       "       'HalfBath', 'BedroomAbvGr', 'KitchenAbvGr', 'KitchenQual',\n",
       "       'TotRmsAbvGrd', 'Functional', 'Fireplaces', 'FireplaceQu', 'GarageType',\n",
       "       'GarageYrBlt', 'GarageFinish', 'GarageCars', 'GarageArea', 'GarageQual',\n",
       "       'GarageCond', 'PavedDrive', 'WoodDeckSF', 'OpenPorchSF',\n",
       "       'EnclosedPorch', '3SsnPorch', 'ScreenPorch', 'PoolArea', 'PoolQC',\n",
       "       'Fence', 'MiscFeature', 'MiscVal', 'MoSold', 'YrSold', 'SaleType',\n",
       "       'SaleCondition', 'SalePrice'],\n",
       "      dtype='object')"
      ]
     },
     "execution_count": 2,
     "metadata": {},
     "output_type": "execute_result"
    }
   ],
   "source": [
    "training_set_path = '../dataset/train.csv'\n",
    "training_set = pd.read_csv(training_set_path)\n",
    "training_set.columns"
   ]
  },
  {
   "cell_type": "markdown",
   "metadata": {},
   "source": [
    "Create Target Object and Features used in model\n"
   ]
  },
  {
   "cell_type": "markdown",
   "metadata": {},
   "source": [
    "Clean the data:"
   ]
  },
  {
   "cell_type": "markdown",
   "metadata": {},
   "source": [
    "1. Check For Missing Value"
   ]
  },
  {
   "cell_type": "code",
   "execution_count": 3,
   "metadata": {},
   "outputs": [
    {
     "name": "stdout",
     "output_type": "stream",
     "text": [
      "           Column  Missing Values\n",
      "0              Id               0\n",
      "1      MSSubClass               0\n",
      "2        MSZoning               0\n",
      "3     LotFrontage             259\n",
      "4         LotArea               0\n",
      "..            ...             ...\n",
      "76         MoSold               0\n",
      "77         YrSold               0\n",
      "78       SaleType               0\n",
      "79  SaleCondition               0\n",
      "80      SalePrice               0\n",
      "\n",
      "[81 rows x 2 columns]\n"
     ]
    }
   ],
   "source": [
    "missing_values = training_set.isnull().sum()\n",
    "\n",
    "missing_values_df = pd.DataFrame(missing_values).reset_index()\n",
    "missing_values_df.columns = ['Column', 'Missing Values']\n",
    "print(missing_values_df)"
   ]
  },
  {
   "cell_type": "markdown",
   "metadata": {},
   "source": [
    "#### Dropping outlier rows\n",
    "\n",
    "Observed in the above cell output, columns *MasVnrArea* and *Electrical* have very low numbers of missing values within.\n",
    "\n",
    "It is safe to drop the corresponding rows without having a significant impact to the model."
   ]
  },
  {
   "cell_type": "code",
   "execution_count": 4,
   "metadata": {},
   "outputs": [],
   "source": [
    "clean_set = training_set\n",
    "clean_set.dropna(axis=0, subset=['MasVnrArea', 'Electrical'], inplace=True)"
   ]
  },
  {
   "cell_type": "markdown",
   "metadata": {},
   "source": [
    "#### Dropping Columns\n",
    "\n",
    "Observed in the dataset, columns *Neighborhood*, *Condition1*, *Condition2*, *RoofMatl*, *Exterior1st* and *Exterior2nd* have a wide variety of responses, but have a relatively low impact of on the prediction result."
   ]
  },
  {
   "cell_type": "code",
   "execution_count": 5,
   "metadata": {},
   "outputs": [],
   "source": [
    "clean_set.drop(['Neighborhood', 'Condition1', 'Condition2', 'Heating', 'Electrical', 'RoofMatl', 'Exterior1st', 'Exterior2nd', 'MasVnrType', 'MiscFeature', 'SaleType'], axis = 1, inplace=True)"
   ]
  },
  {
   "cell_type": "markdown",
   "metadata": {},
   "source": [
    "Handle Missing Value"
   ]
  },
  {
   "cell_type": "markdown",
   "metadata": {},
   "source": [
    "Since the missing valuse in this dataset is meaningful (i.e. Missing value means the house does not have a specific feature.), we cannot just drop all the missing values. \n",
    "    Therefore, I will handle the missing values by filling 0, so that the meaning implied by the missing values will not be missed out."
   ]
  },
  {
   "cell_type": "code",
   "execution_count": 6,
   "metadata": {},
   "outputs": [],
   "source": [
    "# Replace missing values with 0\n",
    "clean_set = clean_set.fillna(0)\n",
    "\n",
    "#Reset the index\n",
    "clean_set.reset_index(drop=True, inplace=True)"
   ]
  },
  {
   "cell_type": "markdown",
   "metadata": {},
   "source": [
    "Clean Data!!"
   ]
  },
  {
   "cell_type": "code",
   "execution_count": 7,
   "metadata": {},
   "outputs": [
    {
     "name": "stderr",
     "output_type": "stream",
     "text": [
      "C:\\Users\\Marco\\AppData\\Local\\Temp\\ipykernel_15972\\2794306827.py:3: FutureWarning: Downcasting behavior in `replace` is deprecated and will be removed in a future version. To retain the old behavior, explicitly call `result.infer_objects(copy=False)`. To opt-in to the future behavior, set `pd.set_option('future.no_silent_downcasting', True)`\n",
      "  clean_set['CentralAir'] = clean_set['CentralAir'].replace({'Y': 1, 'N': 0})\n",
      "C:\\Users\\Marco\\AppData\\Local\\Temp\\ipykernel_15972\\2794306827.py:6: FutureWarning: Downcasting behavior in `replace` is deprecated and will be removed in a future version. To retain the old behavior, explicitly call `result.infer_objects(copy=False)`. To opt-in to the future behavior, set `pd.set_option('future.no_silent_downcasting', True)`\n",
      "  clean_set['Street'] = clean_set['Street'].replace({'Pave': 1, 'Grvl': 0})\n",
      "C:\\Users\\Marco\\AppData\\Local\\Temp\\ipykernel_15972\\2794306827.py:12: FutureWarning: Downcasting behavior in `replace` is deprecated and will be removed in a future version. To retain the old behavior, explicitly call `result.infer_objects(copy=False)`. To opt-in to the future behavior, set `pd.set_option('future.no_silent_downcasting', True)`\n",
      "  clean_set['Alley'] = clean_set['Alley'].replace({'Pave': 1, 'Grvl': 1})\n",
      "C:\\Users\\Marco\\AppData\\Local\\Temp\\ipykernel_15972\\2794306827.py:17: FutureWarning: Downcasting behavior in `replace` is deprecated and will be removed in a future version. To retain the old behavior, explicitly call `result.infer_objects(copy=False)`. To opt-in to the future behavior, set `pd.set_option('future.no_silent_downcasting', True)`\n",
      "  clean_set['LotShape'] = clean_set['LotShape'].replace({'Reg': 1, 'IR1': 0, 'IR2': 0, 'IR3': 0})\n",
      "C:\\Users\\Marco\\AppData\\Local\\Temp\\ipykernel_15972\\2794306827.py:22: FutureWarning: Downcasting behavior in `replace` is deprecated and will be removed in a future version. To retain the old behavior, explicitly call `result.infer_objects(copy=False)`. To opt-in to the future behavior, set `pd.set_option('future.no_silent_downcasting', True)`\n",
      "  clean_set['LandContour'] = clean_set['LandContour'].replace({'Lvl': 1, 'Bnk': 0, 'HLS': 0, 'Low': 0})\n",
      "C:\\Users\\Marco\\AppData\\Local\\Temp\\ipykernel_15972\\2794306827.py:27: FutureWarning: Downcasting behavior in `replace` is deprecated and will be removed in a future version. To retain the old behavior, explicitly call `result.infer_objects(copy=False)`. To opt-in to the future behavior, set `pd.set_option('future.no_silent_downcasting', True)`\n",
      "  clean_set['Utilities'] = clean_set['Utilities'].replace({'AllPub': 1, 'NoSewr': 0, 'NoSeWa': 0, 'ELO': 0})\n"
     ]
    }
   ],
   "source": [
    "#Binary variable transformation!\n",
    "#Convert the columns 'CentralAir' from (Y/N) to (1/0)\n",
    "clean_set['CentralAir'] = clean_set['CentralAir'].replace({'Y': 1, 'N': 0})\n",
    "\n",
    "#Convert the data in the column 'Street' to binary, where 'Pave' to 1 and 'Grvl' to 0.\n",
    "clean_set['Street'] = clean_set['Street'].replace({'Pave': 1, 'Grvl': 0})\n",
    "\n",
    "#Convert the data in the column 'Alley' to binary.\n",
    "#The way of doing it is to group 'Pave' and 'Grvl'\n",
    "#If the property has an alley access, then 1; \n",
    "#Otherwise 0.\n",
    "clean_set['Alley'] = clean_set['Alley'].replace({'Pave': 1, 'Grvl': 1})\n",
    "\n",
    "#Convert the data in the column 'LotShape' to binary, where 'Reg' to 1 and grouping 'IR1', 'IR2' and 'IR3' to 0.\n",
    "#If the shape of the property is regular, then 1;\n",
    "#Otherwise 0.\n",
    "clean_set['LotShape'] = clean_set['LotShape'].replace({'Reg': 1, 'IR1': 0, 'IR2': 0, 'IR3': 0})\n",
    "\n",
    "#Convert the data in the column 'LandContour' to binary, where 'Lvl' to 1 and grouping 'Bnk', 'HLS' and 'Low' to 0.\n",
    "#If the property is near flat/level, then 1;\n",
    "#Otherwise 0.\n",
    "clean_set['LandContour'] = clean_set['LandContour'].replace({'Lvl': 1, 'Bnk': 0, 'HLS': 0, 'Low': 0})\n",
    "\n",
    "#Convert the data in the column 'Utilities' to binary, where 'AllPub' to 1 and grouping 'NoSewr', 'NoSeWa' and 'ELO' to 0.\n",
    "#If all type of utilities is available, then 1;\n",
    "#Otherwise 0.\n",
    "clean_set['Utilities'] = clean_set['Utilities'].replace({'AllPub': 1, 'NoSewr': 0, 'NoSeWa': 0, 'ELO': 0})\n",
    "\n"
   ]
  },
  {
   "cell_type": "code",
   "execution_count": 8,
   "metadata": {},
   "outputs": [
    {
     "data": {
      "text/plain": [
       "['MSZoning',\n",
       " 'LotConfig',\n",
       " 'LandSlope',\n",
       " 'BldgType',\n",
       " 'HouseStyle',\n",
       " 'RoofStyle',\n",
       " 'ExterQual',\n",
       " 'ExterCond',\n",
       " 'Foundation',\n",
       " 'BsmtQual',\n",
       " 'BsmtCond',\n",
       " 'BsmtExposure',\n",
       " 'BsmtFinType1',\n",
       " 'BsmtFinType2',\n",
       " 'HeatingQC',\n",
       " 'KitchenQual',\n",
       " 'Functional',\n",
       " 'FireplaceQu',\n",
       " 'GarageType',\n",
       " 'GarageFinish',\n",
       " 'GarageQual',\n",
       " 'GarageCond',\n",
       " 'PavedDrive',\n",
       " 'PoolQC',\n",
       " 'Fence',\n",
       " 'SaleCondition']"
      ]
     },
     "execution_count": 8,
     "metadata": {},
     "output_type": "execute_result"
    }
   ],
   "source": [
    "clean_set.select_dtypes(include=['object']).columns.tolist()"
   ]
  },
  {
   "cell_type": "markdown",
   "metadata": {},
   "source": [
    "Handling Catagorical Columns which are suitable to use One-hot Encoding method.\n",
    "Those columns include \"MSZoning\", \"BldgType\", \"MasVnrType\""
   ]
  },
  {
   "cell_type": "code",
   "execution_count": 9,
   "metadata": {},
   "outputs": [
    {
     "data": {
      "text/html": [
       "<div>\n",
       "<style scoped>\n",
       "    .dataframe tbody tr th:only-of-type {\n",
       "        vertical-align: middle;\n",
       "    }\n",
       "\n",
       "    .dataframe tbody tr th {\n",
       "        vertical-align: top;\n",
       "    }\n",
       "\n",
       "    .dataframe thead th {\n",
       "        text-align: right;\n",
       "    }\n",
       "</style>\n",
       "<table border=\"1\" class=\"dataframe\">\n",
       "  <thead>\n",
       "    <tr style=\"text-align: right;\">\n",
       "      <th></th>\n",
       "      <th>MSZoning</th>\n",
       "      <th>count</th>\n",
       "    </tr>\n",
       "  </thead>\n",
       "  <tbody>\n",
       "    <tr>\n",
       "      <th>0</th>\n",
       "      <td>RL</td>\n",
       "      <td>1145</td>\n",
       "    </tr>\n",
       "    <tr>\n",
       "      <th>1</th>\n",
       "      <td>RM</td>\n",
       "      <td>218</td>\n",
       "    </tr>\n",
       "    <tr>\n",
       "      <th>2</th>\n",
       "      <td>FV</td>\n",
       "      <td>62</td>\n",
       "    </tr>\n",
       "    <tr>\n",
       "      <th>3</th>\n",
       "      <td>RH</td>\n",
       "      <td>16</td>\n",
       "    </tr>\n",
       "    <tr>\n",
       "      <th>4</th>\n",
       "      <td>C (all)</td>\n",
       "      <td>10</td>\n",
       "    </tr>\n",
       "  </tbody>\n",
       "</table>\n",
       "</div>"
      ],
      "text/plain": [
       "  MSZoning  count\n",
       "0       RL   1145\n",
       "1       RM    218\n",
       "2       FV     62\n",
       "3       RH     16\n",
       "4  C (all)     10"
      ]
     },
     "execution_count": 9,
     "metadata": {},
     "output_type": "execute_result"
    }
   ],
   "source": [
    "clean_set['MSZoning'].value_counts().reset_index()"
   ]
  },
  {
   "cell_type": "code",
   "execution_count": 10,
   "metadata": {},
   "outputs": [
    {
     "data": {
      "text/plain": [
       "array(['RL', 'RM', 'C (all)', 'FV', 'RH'], dtype=object)"
      ]
     },
     "execution_count": 10,
     "metadata": {},
     "output_type": "execute_result"
    }
   ],
   "source": [
    "clean_set['MSZoning'].unique()"
   ]
  },
  {
   "cell_type": "markdown",
   "metadata": {},
   "source": [
    "We will use one-hot encoding method to handle this column."
   ]
  },
  {
   "cell_type": "code",
   "execution_count": 11,
   "metadata": {},
   "outputs": [],
   "source": [
    "# Specify the columns to transform\n",
    "columns_to_transform_OH = ['MSZoning', 'LotConfig', 'BldgType', 'HouseStyle', 'Foundation', 'GarageType', 'SaleCondition', 'RoofStyle']\n",
    "\n",
    "# Convert specified columns to strings\n",
    "clean_set[columns_to_transform_OH] = clean_set[columns_to_transform_OH].astype(str)\n",
    "\n",
    "# Create an instance of OneHotEncoder\n",
    "OH_encoder = OneHotEncoder(handle_unknown='ignore', sparse_output=False)\n",
    "\n",
    "# Apply the encoder to the specified columns\n",
    "encoded_columns = pd.DataFrame(OH_encoder.fit_transform(clean_set[columns_to_transform_OH]))\n",
    "\n",
    "# Get the column names for the one-hot encoded columns\n",
    "encoded_columns.columns = OH_encoder.get_feature_names_out(columns_to_transform_OH)\n",
    "\n",
    "# Concatenate the original DataFrame (excluding the transformed columns) with the new encoded columns\n",
    "clean_set = pd.concat([clean_set.drop(columns_to_transform_OH, axis=1), encoded_columns], axis=1)\n"
   ]
  },
  {
   "cell_type": "markdown",
   "metadata": {},
   "source": [
    "Ordinal Encoding"
   ]
  },
  {
   "cell_type": "code",
   "execution_count": 12,
   "metadata": {},
   "outputs": [],
   "source": [
    "#Uniform the data type by transforming 0 to str\n",
    "clean_set['BsmtQual'] = clean_set['BsmtQual'].replace({0: 'NoBsmt'})\n",
    "clean_set['BsmtCond'] = clean_set['BsmtCond'].replace({0: 'NoBsmt'})\n",
    "clean_set['BsmtExposure'] = clean_set['BsmtExposure'].replace({0: 'NoBsmt'})\n",
    "clean_set['BsmtFinType1'] = clean_set['BsmtFinType1'].replace({0: 'NoBsmt'})\n",
    "clean_set['BsmtFinType2'] = clean_set['BsmtFinType2'].replace({0: 'NoBsmt'})\n",
    "clean_set['FireplaceQu'] = clean_set['FireplaceQu'].replace({0: 'NoFireplace'})\n",
    "clean_set['GarageFinish'] = clean_set['GarageFinish'].replace({0: 'NoGarage'})\n",
    "clean_set['GarageQual'] = clean_set['GarageQual'].replace({0: 'NoGarage'})\n",
    "clean_set['GarageCond'] = clean_set['GarageCond'].replace({0: 'NoGarage'})\n",
    "clean_set['PoolQC'] = clean_set['PoolQC'].replace({0: 'NoPool'})\n",
    "clean_set['Fence'] = clean_set['Fence'].replace({0: 'NoFence'})"
   ]
  },
  {
   "cell_type": "code",
   "execution_count": 13,
   "metadata": {},
   "outputs": [],
   "source": [
    "#Define the desired order for each categorical feature\n",
    "LandSlope_order = ['Gtl', 'Mod', 'Sev']\n",
    "ExterQual_order = ['Ex', 'Gd', 'TA', 'Fa', 'Po']\n",
    "ExterCond_order = ['Ex', 'Gd', 'TA', 'Fa', 'Po']\n",
    "BsmtQual_order = ['Ex', 'Gd', 'TA', 'Fa', 'Po', 'NoBsmt']  \n",
    "BsmtCond_order = ['Ex', 'Gd', 'TA', 'Fa', 'Po', 'NoBsmt']  \n",
    "BsmtExposure_order = ['Gd', 'Av', 'Mn', 'No', 'NoBsmt']    \n",
    "BsmtFinType1_order = ['GLQ', 'ALQ', 'BLQ', 'Rec', 'LwQ', 'Unf', 'NoBsmt']  \n",
    "BsmtFinType2_order = ['GLQ', 'ALQ', 'BLQ', 'Rec', 'LwQ', 'Unf', 'NoBsmt']  \n",
    "HeatingQC_order = ['Ex', 'Gd', 'TA', 'Fa', 'Po']\n",
    "KitchenQual_order = ['Ex', 'Gd', 'TA', 'Fa', 'Po']\n",
    "Functional_order = ['Typ', 'Min1', 'Min2', 'Mod', 'Maj1', 'Maj2', 'Sev', 'Sal']\n",
    "FireplaceQu_order = ['Ex', 'Gd', 'TA', 'Fa', 'Po', 'NoFireplace']  \n",
    "GarageFinish_order = ['Fin', 'RFn', 'Unf', 'NoGarage']          \n",
    "GarageQual_order = ['Ex', 'Gd', 'TA', 'Fa', 'Po', 'NoGarage']   \n",
    "GarageCond_order = ['Ex', 'Gd', 'TA', 'Fa', 'Po', 'NoGarage'] \n",
    "PavedDrive_order = ['Y', 'P', 'N']\n",
    "PoolQC_order = ['Ex', 'Gd', 'TA', 'Fa', 'NoPool']              \n",
    "Fence_order = ['GdPrv', 'MnPrv', 'GdWo', 'MnWw', 'NoFence']  \n",
    "\n",
    "# List of columns to transform\n",
    "columns_to_transform_OE = [\n",
    "    'LandSlope', 'ExterQual', 'ExterCond', 'BsmtQual', 'BsmtCond',\n",
    "    'BsmtExposure', 'BsmtFinType1', 'BsmtFinType2', 'HeatingQC',\n",
    "    'KitchenQual', 'Functional', 'FireplaceQu', 'GarageFinish',\n",
    "    'GarageQual', 'GarageCond', 'PavedDrive', 'PoolQC', 'Fence'\n",
    "]\n",
    "\n",
    "# Convert specified columns to strings\n",
    "clean_set[columns_to_transform_OE] = clean_set[columns_to_transform_OE].astype(str)\n",
    "\n",
    "\n",
    "# Create an instance of OrdinalEncoder with specified categories\n",
    "ordinal_encoder = OrdinalEncoder(categories=[\n",
    "    LandSlope_order,\n",
    "    ExterQual_order,\n",
    "    ExterCond_order,\n",
    "    BsmtQual_order,\n",
    "    BsmtCond_order,\n",
    "    BsmtExposure_order,\n",
    "    BsmtFinType1_order,\n",
    "    BsmtFinType2_order,\n",
    "    HeatingQC_order,\n",
    "    KitchenQual_order,\n",
    "    Functional_order,\n",
    "    FireplaceQu_order,\n",
    "    GarageFinish_order,\n",
    "    GarageQual_order,\n",
    "    GarageCond_order,\n",
    "    PavedDrive_order,\n",
    "    PoolQC_order,\n",
    "    Fence_order\n",
    "])\n",
    "\n",
    "# Apply the encoder to the specified columns\n",
    "encoded_columns = ordinal_encoder.fit_transform(clean_set[columns_to_transform_OE])\n",
    "\n",
    "# Create a new DataFrame with encoded values\n",
    "encoded_df = pd.DataFrame(encoded_columns, columns=columns_to_transform_OE)\n"
   ]
  },
  {
   "cell_type": "code",
   "execution_count": 14,
   "metadata": {},
   "outputs": [],
   "source": [
    "clean_set_dropped = clean_set.drop(columns=columns_to_transform_OE)\n",
    "\n",
    "final_df = pd.concat([clean_set_dropped, encoded_df], axis=1)"
   ]
  }
 ],
 "metadata": {
  "kernelspec": {
   "display_name": "Python 3",
   "language": "python",
   "name": "python3"
  },
  "language_info": {
   "codemirror_mode": {
    "name": "ipython",
    "version": 3
   },
   "file_extension": ".py",
   "mimetype": "text/x-python",
   "name": "python",
   "nbconvert_exporter": "python",
   "pygments_lexer": "ipython3",
   "version": "3.11.9"
  }
 },
 "nbformat": 4,
 "nbformat_minor": 2
}
