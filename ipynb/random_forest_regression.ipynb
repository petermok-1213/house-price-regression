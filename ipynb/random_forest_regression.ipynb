{
 "cells": [
  {
   "cell_type": "markdown",
   "metadata": {},
   "source": [
    "# Prediction of housing prices using Random Forest Regression"
   ]
  },
  {
   "cell_type": "markdown",
   "metadata": {},
   "source": [
    "## Importing libraries"
   ]
  },
  {
   "cell_type": "code",
   "execution_count": 1,
   "metadata": {},
   "outputs": [],
   "source": [
    "import copy\n",
    "\n",
    "import numpy as np\n",
    "import pandas as pd\n",
    "\n",
    "from sklearn.preprocessing import StandardScaler, OrdinalEncoder\n",
    "from sklearn.ensemble import RandomForestRegressor\n",
    "from sklearn.metrics import mean_squared_error\n",
    "\n",
    "import matplotlib.pyplot as plt"
   ]
  },
  {
   "cell_type": "markdown",
   "metadata": {},
   "source": [
    "## Reading datasets"
   ]
  },
  {
   "cell_type": "code",
   "execution_count": 2,
   "metadata": {},
   "outputs": [],
   "source": [
    "TRAINING_SET_PATH = '../dataset/train.csv'\n",
    "training_set = pd.read_csv(TRAINING_SET_PATH)\n",
    "\n",
    "TESTING_SET_PATH = '../dataset/test.csv'\n",
    "testing_set = pd.read_csv(TESTING_SET_PATH)"
   ]
  },
  {
   "cell_type": "markdown",
   "metadata": {},
   "source": [
    "## Data Preprocessing"
   ]
  },
  {
   "cell_type": "code",
   "execution_count": 3,
   "metadata": {},
   "outputs": [
    {
     "name": "stdout",
     "output_type": "stream",
     "text": [
      "Training set length: 1460; Testing set lenth: 1459\n",
      "Total set length: 2919\n"
     ]
    }
   ],
   "source": [
    "# Combining both sets to process together\n",
    "print(f'Training set length: {len(training_set)}; Testing set lenth: {len(testing_set)}')\n",
    "total_set = pd.concat([training_set, testing_set]).reset_index()\n",
    "print(f'Total set length: {len(total_set)}')\n",
    "testing_min_id = 1461"
   ]
  },
  {
   "cell_type": "markdown",
   "metadata": {},
   "source": [
    "### Handling missing values"
   ]
  },
  {
   "cell_type": "code",
   "execution_count": 4,
   "metadata": {},
   "outputs": [
    {
     "name": "stdout",
     "output_type": "stream",
     "text": [
      "              Missing_Values\n",
      "MSZoning                   4\n",
      "LotFrontage              486\n",
      "Alley                   2721\n",
      "Utilities                  2\n",
      "Exterior1st                1\n",
      "Exterior2nd                1\n",
      "MasVnrType              1766\n",
      "MasVnrArea                23\n",
      "BsmtQual                  81\n",
      "BsmtCond                  82\n",
      "BsmtExposure              82\n",
      "BsmtFinType1              79\n",
      "BsmtFinSF1                 1\n",
      "BsmtFinType2              80\n",
      "BsmtFinSF2                 1\n",
      "BsmtUnfSF                  1\n",
      "TotalBsmtSF                1\n",
      "Electrical                 1\n",
      "BsmtFullBath               2\n",
      "BsmtHalfBath               2\n",
      "KitchenQual                1\n",
      "Functional                 2\n",
      "FireplaceQu             1420\n",
      "GarageType               157\n",
      "GarageYrBlt              159\n",
      "GarageFinish             159\n",
      "GarageCars                 1\n",
      "GarageArea                 1\n",
      "GarageQual               159\n",
      "GarageCond               159\n",
      "PoolQC                  2909\n",
      "Fence                   2348\n",
      "MiscFeature             2814\n",
      "SaleType                   1\n",
      "SalePrice               1459\n"
     ]
    }
   ],
   "source": [
    "def display_missing_values(df):\n",
    "    missing_values = df.isnull().sum().to_frame()\n",
    "    missing_values.columns = ['Missing_Values']\n",
    "    missing_values = missing_values.query('Missing_Values > 0')\n",
    "    print(missing_values)\n",
    "\n",
    "display_missing_values(total_set)"
   ]
  },
  {
   "cell_type": "code",
   "execution_count": 12,
   "metadata": {},
   "outputs": [],
   "source": [
    "cleaned_set = copy.deepcopy(total_set)"
   ]
  },
  {
   "cell_type": "markdown",
   "metadata": {},
   "source": [
    "#### Handling Bsmt\n",
    "\n",
    "Upon further inspection in the dataset, rows with NA *BsmtQual* have NA values for the rest of *BsmtColumns*\n",
    "\n",
    "It would be suitable to create a new column of binary value to indicate whether the row has a *Bsmt*"
   ]
  },
  {
   "cell_type": "code",
   "execution_count": 11,
   "metadata": {},
   "outputs": [
    {
     "data": {
      "text/html": [
       "<div>\n",
       "<style scoped>\n",
       "    .dataframe tbody tr th:only-of-type {\n",
       "        vertical-align: middle;\n",
       "    }\n",
       "\n",
       "    .dataframe tbody tr th {\n",
       "        vertical-align: top;\n",
       "    }\n",
       "\n",
       "    .dataframe thead th {\n",
       "        text-align: right;\n",
       "    }\n",
       "</style>\n",
       "<table border=\"1\" class=\"dataframe\">\n",
       "  <thead>\n",
       "    <tr style=\"text-align: right;\">\n",
       "      <th></th>\n",
       "      <th>BsmtQual</th>\n",
       "      <th>BsmtCond</th>\n",
       "      <th>BsmtExposure</th>\n",
       "      <th>BsmtFinType1</th>\n",
       "      <th>BsmtFinType2</th>\n",
       "      <th>BsmtFinSF1</th>\n",
       "      <th>BsmtFinType2</th>\n",
       "      <th>BsmtFinSF2</th>\n",
       "      <th>BsmtUnfSF</th>\n",
       "      <th>TotalBsmtSF</th>\n",
       "    </tr>\n",
       "  </thead>\n",
       "  <tbody>\n",
       "    <tr>\n",
       "      <th>17</th>\n",
       "      <td>NaN</td>\n",
       "      <td>NaN</td>\n",
       "      <td>NaN</td>\n",
       "      <td>NaN</td>\n",
       "      <td>NaN</td>\n",
       "      <td>0.0</td>\n",
       "      <td>NaN</td>\n",
       "      <td>0.0</td>\n",
       "      <td>0.0</td>\n",
       "      <td>0.0</td>\n",
       "    </tr>\n",
       "    <tr>\n",
       "      <th>39</th>\n",
       "      <td>NaN</td>\n",
       "      <td>NaN</td>\n",
       "      <td>NaN</td>\n",
       "      <td>NaN</td>\n",
       "      <td>NaN</td>\n",
       "      <td>0.0</td>\n",
       "      <td>NaN</td>\n",
       "      <td>0.0</td>\n",
       "      <td>0.0</td>\n",
       "      <td>0.0</td>\n",
       "    </tr>\n",
       "    <tr>\n",
       "      <th>90</th>\n",
       "      <td>NaN</td>\n",
       "      <td>NaN</td>\n",
       "      <td>NaN</td>\n",
       "      <td>NaN</td>\n",
       "      <td>NaN</td>\n",
       "      <td>0.0</td>\n",
       "      <td>NaN</td>\n",
       "      <td>0.0</td>\n",
       "      <td>0.0</td>\n",
       "      <td>0.0</td>\n",
       "    </tr>\n",
       "    <tr>\n",
       "      <th>102</th>\n",
       "      <td>NaN</td>\n",
       "      <td>NaN</td>\n",
       "      <td>NaN</td>\n",
       "      <td>NaN</td>\n",
       "      <td>NaN</td>\n",
       "      <td>0.0</td>\n",
       "      <td>NaN</td>\n",
       "      <td>0.0</td>\n",
       "      <td>0.0</td>\n",
       "      <td>0.0</td>\n",
       "    </tr>\n",
       "    <tr>\n",
       "      <th>156</th>\n",
       "      <td>NaN</td>\n",
       "      <td>NaN</td>\n",
       "      <td>NaN</td>\n",
       "      <td>NaN</td>\n",
       "      <td>NaN</td>\n",
       "      <td>0.0</td>\n",
       "      <td>NaN</td>\n",
       "      <td>0.0</td>\n",
       "      <td>0.0</td>\n",
       "      <td>0.0</td>\n",
       "    </tr>\n",
       "    <tr>\n",
       "      <th>...</th>\n",
       "      <td>...</td>\n",
       "      <td>...</td>\n",
       "      <td>...</td>\n",
       "      <td>...</td>\n",
       "      <td>...</td>\n",
       "      <td>...</td>\n",
       "      <td>...</td>\n",
       "      <td>...</td>\n",
       "      <td>...</td>\n",
       "      <td>...</td>\n",
       "    </tr>\n",
       "    <tr>\n",
       "      <th>2803</th>\n",
       "      <td>NaN</td>\n",
       "      <td>NaN</td>\n",
       "      <td>NaN</td>\n",
       "      <td>NaN</td>\n",
       "      <td>NaN</td>\n",
       "      <td>0.0</td>\n",
       "      <td>NaN</td>\n",
       "      <td>0.0</td>\n",
       "      <td>0.0</td>\n",
       "      <td>0.0</td>\n",
       "    </tr>\n",
       "    <tr>\n",
       "      <th>2804</th>\n",
       "      <td>NaN</td>\n",
       "      <td>NaN</td>\n",
       "      <td>NaN</td>\n",
       "      <td>NaN</td>\n",
       "      <td>NaN</td>\n",
       "      <td>0.0</td>\n",
       "      <td>NaN</td>\n",
       "      <td>0.0</td>\n",
       "      <td>0.0</td>\n",
       "      <td>0.0</td>\n",
       "    </tr>\n",
       "    <tr>\n",
       "      <th>2824</th>\n",
       "      <td>NaN</td>\n",
       "      <td>NaN</td>\n",
       "      <td>NaN</td>\n",
       "      <td>NaN</td>\n",
       "      <td>NaN</td>\n",
       "      <td>0.0</td>\n",
       "      <td>NaN</td>\n",
       "      <td>0.0</td>\n",
       "      <td>0.0</td>\n",
       "      <td>0.0</td>\n",
       "    </tr>\n",
       "    <tr>\n",
       "      <th>2891</th>\n",
       "      <td>NaN</td>\n",
       "      <td>NaN</td>\n",
       "      <td>NaN</td>\n",
       "      <td>NaN</td>\n",
       "      <td>NaN</td>\n",
       "      <td>0.0</td>\n",
       "      <td>NaN</td>\n",
       "      <td>0.0</td>\n",
       "      <td>0.0</td>\n",
       "      <td>0.0</td>\n",
       "    </tr>\n",
       "    <tr>\n",
       "      <th>2904</th>\n",
       "      <td>NaN</td>\n",
       "      <td>NaN</td>\n",
       "      <td>NaN</td>\n",
       "      <td>NaN</td>\n",
       "      <td>NaN</td>\n",
       "      <td>0.0</td>\n",
       "      <td>NaN</td>\n",
       "      <td>0.0</td>\n",
       "      <td>0.0</td>\n",
       "      <td>0.0</td>\n",
       "    </tr>\n",
       "  </tbody>\n",
       "</table>\n",
       "<p>81 rows × 10 columns</p>\n",
       "</div>"
      ],
      "text/plain": [
       "     BsmtQual BsmtCond BsmtExposure BsmtFinType1 BsmtFinType2  BsmtFinSF1  \\\n",
       "17        NaN      NaN          NaN          NaN          NaN         0.0   \n",
       "39        NaN      NaN          NaN          NaN          NaN         0.0   \n",
       "90        NaN      NaN          NaN          NaN          NaN         0.0   \n",
       "102       NaN      NaN          NaN          NaN          NaN         0.0   \n",
       "156       NaN      NaN          NaN          NaN          NaN         0.0   \n",
       "...       ...      ...          ...          ...          ...         ...   \n",
       "2803      NaN      NaN          NaN          NaN          NaN         0.0   \n",
       "2804      NaN      NaN          NaN          NaN          NaN         0.0   \n",
       "2824      NaN      NaN          NaN          NaN          NaN         0.0   \n",
       "2891      NaN      NaN          NaN          NaN          NaN         0.0   \n",
       "2904      NaN      NaN          NaN          NaN          NaN         0.0   \n",
       "\n",
       "     BsmtFinType2  BsmtFinSF2  BsmtUnfSF  TotalBsmtSF  \n",
       "17            NaN         0.0        0.0          0.0  \n",
       "39            NaN         0.0        0.0          0.0  \n",
       "90            NaN         0.0        0.0          0.0  \n",
       "102           NaN         0.0        0.0          0.0  \n",
       "156           NaN         0.0        0.0          0.0  \n",
       "...           ...         ...        ...          ...  \n",
       "2803          NaN         0.0        0.0          0.0  \n",
       "2804          NaN         0.0        0.0          0.0  \n",
       "2824          NaN         0.0        0.0          0.0  \n",
       "2891          NaN         0.0        0.0          0.0  \n",
       "2904          NaN         0.0        0.0          0.0  \n",
       "\n",
       "[81 rows x 10 columns]"
      ]
     },
     "execution_count": 11,
     "metadata": {},
     "output_type": "execute_result"
    }
   ],
   "source": [
    "# Inspecting rows with NA BsmtQual\n",
    "mask = total_set['BsmtQual'].isna()\n",
    "cols = ('BsmtQual', 'BsmtCond', 'BsmtExposure', 'BsmtFinType1', 'BsmtFinType2', 'BsmtFinSF1', 'BsmtFinType2', 'BsmtFinSF2', 'BsmtUnfSF', 'TotalBsmtSF')\n",
    "total_set.loc[mask, cols]"
   ]
  },
  {
   "cell_type": "code",
   "execution_count": 13,
   "metadata": {},
   "outputs": [
    {
     "data": {
      "text/html": [
       "<div>\n",
       "<style scoped>\n",
       "    .dataframe tbody tr th:only-of-type {\n",
       "        vertical-align: middle;\n",
       "    }\n",
       "\n",
       "    .dataframe tbody tr th {\n",
       "        vertical-align: top;\n",
       "    }\n",
       "\n",
       "    .dataframe thead th {\n",
       "        text-align: right;\n",
       "    }\n",
       "</style>\n",
       "<table border=\"1\" class=\"dataframe\">\n",
       "  <thead>\n",
       "    <tr style=\"text-align: right;\">\n",
       "      <th></th>\n",
       "      <th>BsmtQual</th>\n",
       "      <th>BsmtCond</th>\n",
       "      <th>BsmtExposure</th>\n",
       "      <th>BsmtFinType1</th>\n",
       "      <th>BsmtFinType2</th>\n",
       "      <th>BsmtFinSF1</th>\n",
       "      <th>BsmtFinType2</th>\n",
       "      <th>BsmtFinSF2</th>\n",
       "      <th>BsmtUnfSF</th>\n",
       "      <th>TotalBsmtSF</th>\n",
       "    </tr>\n",
       "  </thead>\n",
       "  <tbody>\n",
       "    <tr>\n",
       "      <th>0</th>\n",
       "      <td>Gd</td>\n",
       "      <td>TA</td>\n",
       "      <td>No</td>\n",
       "      <td>GLQ</td>\n",
       "      <td>Unf</td>\n",
       "      <td>706.0</td>\n",
       "      <td>Unf</td>\n",
       "      <td>0.0</td>\n",
       "      <td>150.0</td>\n",
       "      <td>856.0</td>\n",
       "    </tr>\n",
       "    <tr>\n",
       "      <th>1</th>\n",
       "      <td>Gd</td>\n",
       "      <td>TA</td>\n",
       "      <td>Gd</td>\n",
       "      <td>ALQ</td>\n",
       "      <td>Unf</td>\n",
       "      <td>978.0</td>\n",
       "      <td>Unf</td>\n",
       "      <td>0.0</td>\n",
       "      <td>284.0</td>\n",
       "      <td>1262.0</td>\n",
       "    </tr>\n",
       "    <tr>\n",
       "      <th>2</th>\n",
       "      <td>Gd</td>\n",
       "      <td>TA</td>\n",
       "      <td>Mn</td>\n",
       "      <td>GLQ</td>\n",
       "      <td>Unf</td>\n",
       "      <td>486.0</td>\n",
       "      <td>Unf</td>\n",
       "      <td>0.0</td>\n",
       "      <td>434.0</td>\n",
       "      <td>920.0</td>\n",
       "    </tr>\n",
       "    <tr>\n",
       "      <th>3</th>\n",
       "      <td>TA</td>\n",
       "      <td>Gd</td>\n",
       "      <td>No</td>\n",
       "      <td>ALQ</td>\n",
       "      <td>Unf</td>\n",
       "      <td>216.0</td>\n",
       "      <td>Unf</td>\n",
       "      <td>0.0</td>\n",
       "      <td>540.0</td>\n",
       "      <td>756.0</td>\n",
       "    </tr>\n",
       "    <tr>\n",
       "      <th>4</th>\n",
       "      <td>Gd</td>\n",
       "      <td>TA</td>\n",
       "      <td>Av</td>\n",
       "      <td>GLQ</td>\n",
       "      <td>Unf</td>\n",
       "      <td>655.0</td>\n",
       "      <td>Unf</td>\n",
       "      <td>0.0</td>\n",
       "      <td>490.0</td>\n",
       "      <td>1145.0</td>\n",
       "    </tr>\n",
       "    <tr>\n",
       "      <th>...</th>\n",
       "      <td>...</td>\n",
       "      <td>...</td>\n",
       "      <td>...</td>\n",
       "      <td>...</td>\n",
       "      <td>...</td>\n",
       "      <td>...</td>\n",
       "      <td>...</td>\n",
       "      <td>...</td>\n",
       "      <td>...</td>\n",
       "      <td>...</td>\n",
       "    </tr>\n",
       "    <tr>\n",
       "      <th>2914</th>\n",
       "      <td>TA</td>\n",
       "      <td>TA</td>\n",
       "      <td>No</td>\n",
       "      <td>Unf</td>\n",
       "      <td>Unf</td>\n",
       "      <td>0.0</td>\n",
       "      <td>Unf</td>\n",
       "      <td>0.0</td>\n",
       "      <td>546.0</td>\n",
       "      <td>546.0</td>\n",
       "    </tr>\n",
       "    <tr>\n",
       "      <th>2915</th>\n",
       "      <td>TA</td>\n",
       "      <td>TA</td>\n",
       "      <td>No</td>\n",
       "      <td>Rec</td>\n",
       "      <td>Unf</td>\n",
       "      <td>252.0</td>\n",
       "      <td>Unf</td>\n",
       "      <td>0.0</td>\n",
       "      <td>294.0</td>\n",
       "      <td>546.0</td>\n",
       "    </tr>\n",
       "    <tr>\n",
       "      <th>2916</th>\n",
       "      <td>TA</td>\n",
       "      <td>TA</td>\n",
       "      <td>No</td>\n",
       "      <td>ALQ</td>\n",
       "      <td>Unf</td>\n",
       "      <td>1224.0</td>\n",
       "      <td>Unf</td>\n",
       "      <td>0.0</td>\n",
       "      <td>0.0</td>\n",
       "      <td>1224.0</td>\n",
       "    </tr>\n",
       "    <tr>\n",
       "      <th>2917</th>\n",
       "      <td>Gd</td>\n",
       "      <td>TA</td>\n",
       "      <td>Av</td>\n",
       "      <td>GLQ</td>\n",
       "      <td>Unf</td>\n",
       "      <td>337.0</td>\n",
       "      <td>Unf</td>\n",
       "      <td>0.0</td>\n",
       "      <td>575.0</td>\n",
       "      <td>912.0</td>\n",
       "    </tr>\n",
       "    <tr>\n",
       "      <th>2918</th>\n",
       "      <td>Gd</td>\n",
       "      <td>TA</td>\n",
       "      <td>Av</td>\n",
       "      <td>LwQ</td>\n",
       "      <td>Unf</td>\n",
       "      <td>758.0</td>\n",
       "      <td>Unf</td>\n",
       "      <td>0.0</td>\n",
       "      <td>238.0</td>\n",
       "      <td>996.0</td>\n",
       "    </tr>\n",
       "  </tbody>\n",
       "</table>\n",
       "<p>2838 rows × 10 columns</p>\n",
       "</div>"
      ],
      "text/plain": [
       "     BsmtQual BsmtCond BsmtExposure BsmtFinType1 BsmtFinType2  BsmtFinSF1  \\\n",
       "0          Gd       TA           No          GLQ          Unf       706.0   \n",
       "1          Gd       TA           Gd          ALQ          Unf       978.0   \n",
       "2          Gd       TA           Mn          GLQ          Unf       486.0   \n",
       "3          TA       Gd           No          ALQ          Unf       216.0   \n",
       "4          Gd       TA           Av          GLQ          Unf       655.0   \n",
       "...       ...      ...          ...          ...          ...         ...   \n",
       "2914       TA       TA           No          Unf          Unf         0.0   \n",
       "2915       TA       TA           No          Rec          Unf       252.0   \n",
       "2916       TA       TA           No          ALQ          Unf      1224.0   \n",
       "2917       Gd       TA           Av          GLQ          Unf       337.0   \n",
       "2918       Gd       TA           Av          LwQ          Unf       758.0   \n",
       "\n",
       "     BsmtFinType2  BsmtFinSF2  BsmtUnfSF  TotalBsmtSF  \n",
       "0             Unf         0.0      150.0        856.0  \n",
       "1             Unf         0.0      284.0       1262.0  \n",
       "2             Unf         0.0      434.0        920.0  \n",
       "3             Unf         0.0      540.0        756.0  \n",
       "4             Unf         0.0      490.0       1145.0  \n",
       "...           ...         ...        ...          ...  \n",
       "2914          Unf         0.0      546.0        546.0  \n",
       "2915          Unf         0.0      294.0        546.0  \n",
       "2916          Unf         0.0        0.0       1224.0  \n",
       "2917          Unf         0.0      575.0        912.0  \n",
       "2918          Unf         0.0      238.0        996.0  \n",
       "\n",
       "[2838 rows x 10 columns]"
      ]
     },
     "execution_count": 13,
     "metadata": {},
     "output_type": "execute_result"
    }
   ],
   "source": [
    "# Inspecting rows with non-NA BsmtQual\n",
    "mask = total_set['BsmtQual'].notna()\n",
    "cols = ('BsmtQual', 'BsmtCond', 'BsmtExposure', 'BsmtFinType1', 'BsmtFinType2', 'BsmtFinSF1', 'BsmtFinType2', 'BsmtFinSF2', 'BsmtUnfSF', 'TotalBsmtSF')\n",
    "total_set.loc[mask, cols]"
   ]
  },
  {
   "cell_type": "code",
   "execution_count": 16,
   "metadata": {},
   "outputs": [
    {
     "name": "stdout",
     "output_type": "stream",
     "text": [
      "              Missing_Values\n",
      "MSZoning                   4\n",
      "LotFrontage              486\n",
      "Alley                   2721\n",
      "Utilities                  2\n",
      "Exterior1st                1\n",
      "Exterior2nd                1\n",
      "MasVnrType              1766\n",
      "MasVnrArea                23\n",
      "BsmtCond                   3\n",
      "BsmtExposure               3\n",
      "BsmtFinSF1                 1\n",
      "BsmtFinType2               1\n",
      "Electrical                 1\n",
      "BsmtFullBath               2\n",
      "BsmtHalfBath               2\n",
      "KitchenQual                1\n",
      "Functional                 2\n",
      "FireplaceQu             1420\n",
      "GarageType               157\n",
      "GarageYrBlt              159\n",
      "GarageFinish             159\n",
      "GarageCars                 1\n",
      "GarageArea                 1\n",
      "GarageQual               159\n",
      "GarageCond               159\n",
      "PoolQC                  2909\n",
      "Fence                   2348\n",
      "MiscFeature             2814\n",
      "SaleType                   1\n",
      "SalePrice               1459\n",
      "BsmtIncluded            1459\n"
     ]
    }
   ],
   "source": [
    "# Creating a indicator column\n",
    "cleaned_set = cleaned_set.assign(BsmtIncluded=training_set['BsmtQual'].notna())\n",
    "\n",
    "# Replaceing NA with an arbitrary value\n",
    "mask = cleaned_set['BsmtQual'].isna()\n",
    "cat_cols = ('BsmtQual', 'BsmtCond', 'BsmtExposure', 'BsmtFinType1', 'BsmtFinType2')\n",
    "num_cols = ('BsmtFinSF2', 'BsmtUnfSF', 'TotalBsmtSF')\n",
    "\n",
    "cleaned_set.loc[mask, cat_cols] = str('NA')\n",
    "cleaned_set.loc[mask, num_cols] = 0\n",
    "\n",
    "display_missing_values(cleaned_set)"
   ]
  },
  {
   "cell_type": "code",
   "execution_count": 29,
   "metadata": {},
   "outputs": [
    {
     "name": "stdout",
     "output_type": "stream",
     "text": [
      "              Missing_Values\n",
      "MSZoning                   4\n",
      "LotFrontage              486\n",
      "Alley                   2721\n",
      "Utilities                  2\n",
      "Exterior1st                1\n",
      "Exterior2nd                1\n",
      "MasVnrType              1766\n",
      "MasVnrArea                23\n",
      "BsmtFinSF1                 1\n",
      "BsmtFinType2               1\n",
      "Electrical                 1\n",
      "BsmtFullBath               2\n",
      "BsmtHalfBath               2\n",
      "KitchenQual                1\n",
      "Functional                 2\n",
      "FireplaceQu             1420\n",
      "GarageType               157\n",
      "GarageYrBlt              159\n",
      "GarageFinish             159\n",
      "GarageCars                 1\n",
      "GarageArea                 1\n",
      "GarageQual               159\n",
      "GarageCond               159\n",
      "PoolQC                  2909\n",
      "Fence                   2348\n",
      "MiscFeature             2814\n",
      "SaleType                   1\n",
      "SalePrice               1459\n",
      "BsmtIncluded            1459\n"
     ]
    }
   ],
   "source": [
    "# cleanup BsmtCond\n",
    "mask = cleaned_set['BsmtCond'].isna()\n",
    "cols = ('BsmtQual', 'BsmtCond', 'BsmtExposure', 'BsmtFinType1', 'BsmtFinType2', 'BsmtFinSF1', 'BsmtFinSF2', 'BsmtUnfSF', 'TotalBsmtSF')\n",
    "\n",
    "# Replaceing NA with an arbitrary value\n",
    "cat_cols = ('BsmtQual', 'BsmtCond', 'BsmtExposure', 'BsmtFinType1', 'BsmtFinType2')\n",
    "num_cols = ('BsmtFinSF2', 'BsmtUnfSF', 'TotalBsmtSF')\n",
    "\n",
    "cleaned_set.loc[mask, cat_cols] = str('NA')\n",
    "cleaned_set.loc[mask, num_cols] = 0\n",
    "\n",
    "display_missing_values(cleaned_set)"
   ]
  },
  {
   "cell_type": "code",
   "execution_count": 30,
   "metadata": {},
   "outputs": [
    {
     "name": "stdout",
     "output_type": "stream",
     "text": [
      "              Missing_Values\n",
      "MSZoning                   4\n",
      "LotFrontage              486\n",
      "Alley                   2721\n",
      "Utilities                  2\n",
      "Exterior1st                1\n",
      "Exterior2nd                1\n",
      "MasVnrType              1766\n",
      "MasVnrArea                23\n",
      "BsmtFinSF1                 1\n",
      "BsmtFinType2               1\n",
      "Electrical                 1\n",
      "BsmtFullBath               2\n",
      "BsmtHalfBath               2\n",
      "KitchenQual                1\n",
      "Functional                 2\n",
      "FireplaceQu             1420\n",
      "GarageType               157\n",
      "GarageYrBlt              159\n",
      "GarageFinish             159\n",
      "GarageCars                 1\n",
      "GarageArea                 1\n",
      "GarageQual               159\n",
      "GarageCond               159\n",
      "PoolQC                  2909\n",
      "Fence                   2348\n",
      "MiscFeature             2814\n",
      "SaleType                   1\n",
      "SalePrice               1459\n",
      "BsmtIncluded            1459\n"
     ]
    }
   ],
   "source": [
    "# cleanup BsmtExposure\n",
    "mask = cleaned_set['BsmtExposure'].isna()\n",
    "cols = ('BsmtQual', 'BsmtCond', 'BsmtExposure', 'BsmtFinType1', 'BsmtFinType2', 'BsmtFinSF1', 'BsmtFinSF2', 'BsmtUnfSF', 'TotalBsmtSF')\n",
    "\n",
    "# Replaceing NA with an arbitrary value\n",
    "cat_cols = ('BsmtQual', 'BsmtCond', 'BsmtExposure', 'BsmtFinType1', 'BsmtFinType2')\n",
    "num_cols = ('BsmtFinSF2', 'BsmtUnfSF', 'TotalBsmtSF')\n",
    "\n",
    "cleaned_set.loc[mask, cat_cols] = str('NA')\n",
    "cleaned_set.loc[mask, num_cols] = 0\n",
    "\n",
    "display_missing_values(cleaned_set)"
   ]
  },
  {
   "cell_type": "code",
   "execution_count": 32,
   "metadata": {},
   "outputs": [
    {
     "data": {
      "text/html": [
       "<div>\n",
       "<style scoped>\n",
       "    .dataframe tbody tr th:only-of-type {\n",
       "        vertical-align: middle;\n",
       "    }\n",
       "\n",
       "    .dataframe tbody tr th {\n",
       "        vertical-align: top;\n",
       "    }\n",
       "\n",
       "    .dataframe thead th {\n",
       "        text-align: right;\n",
       "    }\n",
       "</style>\n",
       "<table border=\"1\" class=\"dataframe\">\n",
       "  <thead>\n",
       "    <tr style=\"text-align: right;\">\n",
       "      <th></th>\n",
       "      <th>Id</th>\n",
       "      <th>BsmtQual</th>\n",
       "      <th>BsmtCond</th>\n",
       "      <th>BsmtExposure</th>\n",
       "      <th>BsmtFinType1</th>\n",
       "      <th>BsmtFinType2</th>\n",
       "      <th>BsmtFinSF1</th>\n",
       "      <th>BsmtFinSF2</th>\n",
       "      <th>BsmtUnfSF</th>\n",
       "      <th>TotalBsmtSF</th>\n",
       "    </tr>\n",
       "  </thead>\n",
       "  <tbody>\n",
       "    <tr>\n",
       "      <th>332</th>\n",
       "      <td>333</td>\n",
       "      <td>Gd</td>\n",
       "      <td>TA</td>\n",
       "      <td>No</td>\n",
       "      <td>GLQ</td>\n",
       "      <td>NaN</td>\n",
       "      <td>1124.0</td>\n",
       "      <td>479.0</td>\n",
       "      <td>1603.0</td>\n",
       "      <td>3206.0</td>\n",
       "    </tr>\n",
       "  </tbody>\n",
       "</table>\n",
       "</div>"
      ],
      "text/plain": [
       "      Id BsmtQual BsmtCond BsmtExposure BsmtFinType1 BsmtFinType2  BsmtFinSF1  \\\n",
       "332  333       Gd       TA           No          GLQ          NaN      1124.0   \n",
       "\n",
       "     BsmtFinSF2  BsmtUnfSF  TotalBsmtSF  \n",
       "332       479.0     1603.0       3206.0  "
      ]
     },
     "execution_count": 32,
     "metadata": {},
     "output_type": "execute_result"
    }
   ],
   "source": [
    "# cleanup BsmtExposure\n",
    "mask = cleaned_set['BsmtFinType2'].isna()\n",
    "cols = ('Id','BsmtQual', 'BsmtCond', 'BsmtExposure', 'BsmtFinType1', 'BsmtFinType2', 'BsmtFinSF1', 'BsmtFinSF2', 'BsmtUnfSF', 'TotalBsmtSF')\n",
    "\n",
    "cleaned_set.loc[mask, cols]"
   ]
  },
  {
   "cell_type": "markdown",
   "metadata": {},
   "source": [
    "#### Handling Garage\n",
    "\n",
    "Upon further inspection in the dataset, rows with NA *GarageType* have NA values for the rest of *GarageColumns*\n",
    "\n",
    "It would be suitable to create a new column of binary value to indicate whether the row has a garage"
   ]
  },
  {
   "cell_type": "code",
   "execution_count": 8,
   "metadata": {},
   "outputs": [
    {
     "data": {
      "text/html": [
       "<div>\n",
       "<style scoped>\n",
       "    .dataframe tbody tr th:only-of-type {\n",
       "        vertical-align: middle;\n",
       "    }\n",
       "\n",
       "    .dataframe tbody tr th {\n",
       "        vertical-align: top;\n",
       "    }\n",
       "\n",
       "    .dataframe thead th {\n",
       "        text-align: right;\n",
       "    }\n",
       "</style>\n",
       "<table border=\"1\" class=\"dataframe\">\n",
       "  <thead>\n",
       "    <tr style=\"text-align: right;\">\n",
       "      <th></th>\n",
       "      <th>GarageType</th>\n",
       "      <th>GarageYrBlt</th>\n",
       "      <th>GarageFinish</th>\n",
       "      <th>GarageQual</th>\n",
       "      <th>GarageCond</th>\n",
       "    </tr>\n",
       "  </thead>\n",
       "  <tbody>\n",
       "    <tr>\n",
       "      <th>39</th>\n",
       "      <td>NaN</td>\n",
       "      <td>NaN</td>\n",
       "      <td>NaN</td>\n",
       "      <td>NaN</td>\n",
       "      <td>NaN</td>\n",
       "    </tr>\n",
       "    <tr>\n",
       "      <th>48</th>\n",
       "      <td>NaN</td>\n",
       "      <td>NaN</td>\n",
       "      <td>NaN</td>\n",
       "      <td>NaN</td>\n",
       "      <td>NaN</td>\n",
       "    </tr>\n",
       "    <tr>\n",
       "      <th>78</th>\n",
       "      <td>NaN</td>\n",
       "      <td>NaN</td>\n",
       "      <td>NaN</td>\n",
       "      <td>NaN</td>\n",
       "      <td>NaN</td>\n",
       "    </tr>\n",
       "    <tr>\n",
       "      <th>88</th>\n",
       "      <td>NaN</td>\n",
       "      <td>NaN</td>\n",
       "      <td>NaN</td>\n",
       "      <td>NaN</td>\n",
       "      <td>NaN</td>\n",
       "    </tr>\n",
       "    <tr>\n",
       "      <th>89</th>\n",
       "      <td>NaN</td>\n",
       "      <td>NaN</td>\n",
       "      <td>NaN</td>\n",
       "      <td>NaN</td>\n",
       "      <td>NaN</td>\n",
       "    </tr>\n",
       "    <tr>\n",
       "      <th>...</th>\n",
       "      <td>...</td>\n",
       "      <td>...</td>\n",
       "      <td>...</td>\n",
       "      <td>...</td>\n",
       "      <td>...</td>\n",
       "    </tr>\n",
       "    <tr>\n",
       "      <th>2893</th>\n",
       "      <td>NaN</td>\n",
       "      <td>NaN</td>\n",
       "      <td>NaN</td>\n",
       "      <td>NaN</td>\n",
       "      <td>NaN</td>\n",
       "    </tr>\n",
       "    <tr>\n",
       "      <th>2909</th>\n",
       "      <td>NaN</td>\n",
       "      <td>NaN</td>\n",
       "      <td>NaN</td>\n",
       "      <td>NaN</td>\n",
       "      <td>NaN</td>\n",
       "    </tr>\n",
       "    <tr>\n",
       "      <th>2913</th>\n",
       "      <td>NaN</td>\n",
       "      <td>NaN</td>\n",
       "      <td>NaN</td>\n",
       "      <td>NaN</td>\n",
       "      <td>NaN</td>\n",
       "    </tr>\n",
       "    <tr>\n",
       "      <th>2914</th>\n",
       "      <td>NaN</td>\n",
       "      <td>NaN</td>\n",
       "      <td>NaN</td>\n",
       "      <td>NaN</td>\n",
       "      <td>NaN</td>\n",
       "    </tr>\n",
       "    <tr>\n",
       "      <th>2917</th>\n",
       "      <td>NaN</td>\n",
       "      <td>NaN</td>\n",
       "      <td>NaN</td>\n",
       "      <td>NaN</td>\n",
       "      <td>NaN</td>\n",
       "    </tr>\n",
       "  </tbody>\n",
       "</table>\n",
       "<p>157 rows × 5 columns</p>\n",
       "</div>"
      ],
      "text/plain": [
       "     GarageType  GarageYrBlt GarageFinish GarageQual GarageCond\n",
       "39          NaN          NaN          NaN        NaN        NaN\n",
       "48          NaN          NaN          NaN        NaN        NaN\n",
       "78          NaN          NaN          NaN        NaN        NaN\n",
       "88          NaN          NaN          NaN        NaN        NaN\n",
       "89          NaN          NaN          NaN        NaN        NaN\n",
       "...         ...          ...          ...        ...        ...\n",
       "2893        NaN          NaN          NaN        NaN        NaN\n",
       "2909        NaN          NaN          NaN        NaN        NaN\n",
       "2913        NaN          NaN          NaN        NaN        NaN\n",
       "2914        NaN          NaN          NaN        NaN        NaN\n",
       "2917        NaN          NaN          NaN        NaN        NaN\n",
       "\n",
       "[157 rows x 5 columns]"
      ]
     },
     "execution_count": 8,
     "metadata": {},
     "output_type": "execute_result"
    }
   ],
   "source": [
    "# Inspecting rows with NA GarageType\n",
    "mask = cleaned_set['GarageType'].isna()\n",
    "cols = ('GarageType', 'GarageYrBlt', 'GarageFinish', 'GarageQual', 'GarageCond')\n",
    "cleaned_set.loc[mask, cols]"
   ]
  },
  {
   "cell_type": "code",
   "execution_count": 9,
   "metadata": {},
   "outputs": [
    {
     "data": {
      "text/html": [
       "<div>\n",
       "<style scoped>\n",
       "    .dataframe tbody tr th:only-of-type {\n",
       "        vertical-align: middle;\n",
       "    }\n",
       "\n",
       "    .dataframe tbody tr th {\n",
       "        vertical-align: top;\n",
       "    }\n",
       "\n",
       "    .dataframe thead th {\n",
       "        text-align: right;\n",
       "    }\n",
       "</style>\n",
       "<table border=\"1\" class=\"dataframe\">\n",
       "  <thead>\n",
       "    <tr style=\"text-align: right;\">\n",
       "      <th></th>\n",
       "      <th>GarageType</th>\n",
       "      <th>GarageYrBlt</th>\n",
       "      <th>GarageFinish</th>\n",
       "      <th>GarageQual</th>\n",
       "      <th>GarageCond</th>\n",
       "      <th>GarageCars</th>\n",
       "      <th>GarageArea</th>\n",
       "    </tr>\n",
       "  </thead>\n",
       "  <tbody>\n",
       "    <tr>\n",
       "      <th>39</th>\n",
       "      <td>NaN</td>\n",
       "      <td>NaN</td>\n",
       "      <td>NaN</td>\n",
       "      <td>NaN</td>\n",
       "      <td>NaN</td>\n",
       "      <td>0.0</td>\n",
       "      <td>0.0</td>\n",
       "    </tr>\n",
       "    <tr>\n",
       "      <th>48</th>\n",
       "      <td>NaN</td>\n",
       "      <td>NaN</td>\n",
       "      <td>NaN</td>\n",
       "      <td>NaN</td>\n",
       "      <td>NaN</td>\n",
       "      <td>0.0</td>\n",
       "      <td>0.0</td>\n",
       "    </tr>\n",
       "    <tr>\n",
       "      <th>78</th>\n",
       "      <td>NaN</td>\n",
       "      <td>NaN</td>\n",
       "      <td>NaN</td>\n",
       "      <td>NaN</td>\n",
       "      <td>NaN</td>\n",
       "      <td>0.0</td>\n",
       "      <td>0.0</td>\n",
       "    </tr>\n",
       "    <tr>\n",
       "      <th>88</th>\n",
       "      <td>NaN</td>\n",
       "      <td>NaN</td>\n",
       "      <td>NaN</td>\n",
       "      <td>NaN</td>\n",
       "      <td>NaN</td>\n",
       "      <td>0.0</td>\n",
       "      <td>0.0</td>\n",
       "    </tr>\n",
       "    <tr>\n",
       "      <th>89</th>\n",
       "      <td>NaN</td>\n",
       "      <td>NaN</td>\n",
       "      <td>NaN</td>\n",
       "      <td>NaN</td>\n",
       "      <td>NaN</td>\n",
       "      <td>0.0</td>\n",
       "      <td>0.0</td>\n",
       "    </tr>\n",
       "    <tr>\n",
       "      <th>...</th>\n",
       "      <td>...</td>\n",
       "      <td>...</td>\n",
       "      <td>...</td>\n",
       "      <td>...</td>\n",
       "      <td>...</td>\n",
       "      <td>...</td>\n",
       "      <td>...</td>\n",
       "    </tr>\n",
       "    <tr>\n",
       "      <th>2893</th>\n",
       "      <td>NaN</td>\n",
       "      <td>NaN</td>\n",
       "      <td>NaN</td>\n",
       "      <td>NaN</td>\n",
       "      <td>NaN</td>\n",
       "      <td>0.0</td>\n",
       "      <td>0.0</td>\n",
       "    </tr>\n",
       "    <tr>\n",
       "      <th>2909</th>\n",
       "      <td>NaN</td>\n",
       "      <td>NaN</td>\n",
       "      <td>NaN</td>\n",
       "      <td>NaN</td>\n",
       "      <td>NaN</td>\n",
       "      <td>0.0</td>\n",
       "      <td>0.0</td>\n",
       "    </tr>\n",
       "    <tr>\n",
       "      <th>2913</th>\n",
       "      <td>NaN</td>\n",
       "      <td>NaN</td>\n",
       "      <td>NaN</td>\n",
       "      <td>NaN</td>\n",
       "      <td>NaN</td>\n",
       "      <td>0.0</td>\n",
       "      <td>0.0</td>\n",
       "    </tr>\n",
       "    <tr>\n",
       "      <th>2914</th>\n",
       "      <td>NaN</td>\n",
       "      <td>NaN</td>\n",
       "      <td>NaN</td>\n",
       "      <td>NaN</td>\n",
       "      <td>NaN</td>\n",
       "      <td>0.0</td>\n",
       "      <td>0.0</td>\n",
       "    </tr>\n",
       "    <tr>\n",
       "      <th>2917</th>\n",
       "      <td>NaN</td>\n",
       "      <td>NaN</td>\n",
       "      <td>NaN</td>\n",
       "      <td>NaN</td>\n",
       "      <td>NaN</td>\n",
       "      <td>0.0</td>\n",
       "      <td>0.0</td>\n",
       "    </tr>\n",
       "  </tbody>\n",
       "</table>\n",
       "<p>159 rows × 7 columns</p>\n",
       "</div>"
      ],
      "text/plain": [
       "     GarageType  GarageYrBlt GarageFinish GarageQual GarageCond  GarageCars  \\\n",
       "39          NaN          NaN          NaN        NaN        NaN         0.0   \n",
       "48          NaN          NaN          NaN        NaN        NaN         0.0   \n",
       "78          NaN          NaN          NaN        NaN        NaN         0.0   \n",
       "88          NaN          NaN          NaN        NaN        NaN         0.0   \n",
       "89          NaN          NaN          NaN        NaN        NaN         0.0   \n",
       "...         ...          ...          ...        ...        ...         ...   \n",
       "2893        NaN          NaN          NaN        NaN        NaN         0.0   \n",
       "2909        NaN          NaN          NaN        NaN        NaN         0.0   \n",
       "2913        NaN          NaN          NaN        NaN        NaN         0.0   \n",
       "2914        NaN          NaN          NaN        NaN        NaN         0.0   \n",
       "2917        NaN          NaN          NaN        NaN        NaN         0.0   \n",
       "\n",
       "      GarageArea  \n",
       "39           0.0  \n",
       "48           0.0  \n",
       "78           0.0  \n",
       "88           0.0  \n",
       "89           0.0  \n",
       "...          ...  \n",
       "2893         0.0  \n",
       "2909         0.0  \n",
       "2913         0.0  \n",
       "2914         0.0  \n",
       "2917         0.0  \n",
       "\n",
       "[159 rows x 7 columns]"
      ]
     },
     "execution_count": 9,
     "metadata": {},
     "output_type": "execute_result"
    }
   ],
   "source": [
    "# Inspecting rows with NA YrBlt\n",
    "mask = cleaned_set['GarageYrBlt'].isna()\n",
    "cols = ('GarageType', 'GarageYrBlt', 'GarageFinish', 'GarageQual', 'GarageCond', 'GarageCars', 'GarageArea')\n",
    "cleaned_set.loc[mask, cols]"
   ]
  },
  {
   "cell_type": "code",
   "execution_count": 10,
   "metadata": {},
   "outputs": [
    {
     "name": "stdout",
     "output_type": "stream",
     "text": [
      "                Missing_Values\n",
      "MSZoning                     4\n",
      "LotFrontage                486\n",
      "Alley                     2721\n",
      "Utilities                    2\n",
      "Exterior1st                  1\n",
      "Exterior2nd                  1\n",
      "MasVnrType                1766\n",
      "MasVnrArea                  23\n",
      "BsmtCond                     3\n",
      "BsmtExposure                 3\n",
      "BsmtFinSF1                   1\n",
      "BsmtFinType2                 1\n",
      "BsmtFinSF2                   1\n",
      "BsmtUnfSF                    1\n",
      "TotalBsmtSF                  1\n",
      "Electrical                   1\n",
      "BsmtFullBath                 2\n",
      "BsmtHalfBath                 2\n",
      "KitchenQual                  1\n",
      "Functional                   2\n",
      "FireplaceQu               1420\n",
      "PoolQC                    2909\n",
      "Fence                     2348\n",
      "MiscFeature               2814\n",
      "SaleType                     1\n",
      "SalePrice                 1459\n",
      "BsmtIncluded              1459\n",
      "GarageIncluded            1459\n"
     ]
    }
   ],
   "source": [
    "# Creating a indicator column\n",
    "cleaned_set = cleaned_set.assign(GarageIncluded=training_set['GarageType'].notna())\n",
    "\n",
    "# For NA Garage Type\n",
    "\n",
    "#   Replaceing NA with an arbitrary value\n",
    "mask = cleaned_set['GarageType'].isna()\n",
    "\n",
    "#   Handling categorical features\n",
    "cat_cols = ('GarageType', 'GarageFinish', 'GarageQual', 'GarageCond')\n",
    "cleaned_set.loc[mask, cat_cols] = 'NA'\n",
    "\n",
    "#   Handling numerical feature\n",
    "num_cols = ('GarageYrBlt', 'GarageCars', 'GarageArea')\n",
    "cleaned_set.loc[mask, num_cols] = 0\n",
    "\n",
    "# For NA GarageYrBlt\n",
    "\n",
    "#   Replaceing NA with an arbitrary value\n",
    "mask = cleaned_set['GarageYrBlt'].isna()\n",
    "\n",
    "#   Handling categorical features\n",
    "cat_cols = ('GarageType', 'GarageFinish', 'GarageQual', 'GarageCond')\n",
    "cleaned_set.loc[mask, cat_cols] = 'NA'\n",
    "\n",
    "#   Handling numerical feature\n",
    "num_cols = ('GarageYrBlt', 'GarageCars', 'GarageArea')\n",
    "cleaned_set.loc[mask, num_cols] = 0\n",
    "\n",
    "display_missing_values(cleaned_set)"
   ]
  },
  {
   "cell_type": "markdown",
   "metadata": {},
   "source": [
    "#### Handling Alley\n",
    "\n",
    "It is observed that *Alley* is a nominal feature. NAs in *Alley* are replaced with *'No_Alley'* for now, which will be further processed and encoded."
   ]
  },
  {
   "cell_type": "code",
   "execution_count": 11,
   "metadata": {},
   "outputs": [
    {
     "data": {
      "text/plain": [
       "array([nan, 'Grvl', 'Pave'], dtype=object)"
      ]
     },
     "execution_count": 11,
     "metadata": {},
     "output_type": "execute_result"
    }
   ],
   "source": [
    "cleaned_set['Alley'].unique()"
   ]
  },
  {
   "cell_type": "code",
   "execution_count": 12,
   "metadata": {},
   "outputs": [
    {
     "name": "stdout",
     "output_type": "stream",
     "text": [
      "              Missing_Values\n",
      "MSZoning                   4\n",
      "LotFrontage              486\n",
      "Utilities                  2\n",
      "Exterior1st                1\n",
      "Exterior2nd                1\n",
      "MasVnrType              1766\n",
      "MasVnrArea                23\n",
      "BsmtCond                   3\n",
      "BsmtExposure               3\n",
      "BsmtFinSF1                 1\n",
      "BsmtFinType2               1\n",
      "BsmtFinSF2                 1\n",
      "BsmtUnfSF                  1\n",
      "TotalBsmtSF                1\n",
      "Electrical                 1\n",
      "BsmtFullBath               2\n",
      "BsmtHalfBath               2\n",
      "KitchenQual                1\n",
      "Functional                 2\n",
      "FireplaceQu             1420\n",
      "GarageYrBlt                2\n",
      "GarageFinish               2\n",
      "GarageCars                 1\n",
      "GarageArea                 1\n",
      "GarageQual                 2\n",
      "GarageCond                 2\n",
      "PoolQC                  2909\n",
      "Fence                   2348\n",
      "MiscFeature             2814\n",
      "SaleType                   1\n",
      "SalePrice               1459\n"
     ]
    }
   ],
   "source": [
    "# Creating a indicator column\n",
    "cleaned_set = cleaned_set.assign(AlleyIncluded=training_set['Alley'].notna())\n",
    "\n",
    "mask = cleaned_set['Alley'].isna()\n",
    "cleaned_set.loc[mask, 'Alley'] = 'No_Alley'\n",
    "\n",
    "display_missing_values(cleaned_set)"
   ]
  },
  {
   "cell_type": "markdown",
   "metadata": {},
   "source": [
    "#### Handling MasVnrType\n",
    "\n",
    "Again, *MasVnrType* is a nominal feature, NAs are replaced with *'No_MasVnrType'* for further encoding."
   ]
  },
  {
   "cell_type": "code",
   "execution_count": 13,
   "metadata": {},
   "outputs": [
    {
     "data": {
      "text/plain": [
       "array(['BrkFace', nan, 'Stone', 'BrkCmn'], dtype=object)"
      ]
     },
     "execution_count": 13,
     "metadata": {},
     "output_type": "execute_result"
    }
   ],
   "source": [
    "cleaned_set['MasVnrType'].unique()"
   ]
  },
  {
   "cell_type": "code",
   "execution_count": 14,
   "metadata": {},
   "outputs": [
    {
     "name": "stdout",
     "output_type": "stream",
     "text": [
      "              Missing_Values\n",
      "MSZoning                   4\n",
      "LotFrontage              486\n",
      "Utilities                  2\n",
      "Exterior1st                1\n",
      "Exterior2nd                1\n",
      "MasVnrArea                23\n",
      "BsmtCond                   3\n",
      "BsmtExposure               3\n",
      "BsmtFinSF1                 1\n",
      "BsmtFinType2               1\n",
      "BsmtFinSF2                 1\n",
      "BsmtUnfSF                  1\n",
      "TotalBsmtSF                1\n",
      "Electrical                 1\n",
      "BsmtFullBath               2\n",
      "BsmtHalfBath               2\n",
      "KitchenQual                1\n",
      "Functional                 2\n",
      "FireplaceQu             1420\n",
      "GarageYrBlt                2\n",
      "GarageFinish               2\n",
      "GarageCars                 1\n",
      "GarageArea                 1\n",
      "GarageQual                 2\n",
      "GarageCond                 2\n",
      "PoolQC                  2909\n",
      "Fence                   2348\n",
      "MiscFeature             2814\n",
      "SaleType                   1\n",
      "SalePrice               1459\n"
     ]
    }
   ],
   "source": [
    "# Creating a indicator column\n",
    "cleaned_set = cleaned_set.assign(MasVnrIncluded=training_set['MasVnrType'].notna())\n",
    "\n",
    "mask = cleaned_set['MasVnrType'].isna()\n",
    "cleaned_set.loc[mask, 'MasVnrType'] = 'No_MasVnrType'\n",
    "\n",
    "display_missing_values(cleaned_set)"
   ]
  },
  {
   "cell_type": "markdown",
   "metadata": {},
   "source": [
    "#### Handling MasVnrArea"
   ]
  },
  {
   "cell_type": "code",
   "execution_count": 15,
   "metadata": {},
   "outputs": [
    {
     "name": "stdout",
     "output_type": "stream",
     "text": [
      "              Missing_Values\n",
      "MSZoning                   4\n",
      "LotFrontage              486\n",
      "Utilities                  2\n",
      "Exterior1st                1\n",
      "Exterior2nd                1\n",
      "BsmtCond                   3\n",
      "BsmtExposure               3\n",
      "BsmtFinSF1                 1\n",
      "BsmtFinType2               1\n",
      "BsmtFinSF2                 1\n",
      "BsmtUnfSF                  1\n",
      "TotalBsmtSF                1\n",
      "Electrical                 1\n",
      "BsmtFullBath               2\n",
      "BsmtHalfBath               2\n",
      "KitchenQual                1\n",
      "Functional                 2\n",
      "FireplaceQu             1420\n",
      "GarageYrBlt                2\n",
      "GarageFinish               2\n",
      "GarageCars                 1\n",
      "GarageArea                 1\n",
      "GarageQual                 2\n",
      "GarageCond                 2\n",
      "PoolQC                  2909\n",
      "Fence                   2348\n",
      "MiscFeature             2814\n",
      "SaleType                   1\n",
      "SalePrice               1459\n"
     ]
    }
   ],
   "source": [
    "mask = cleaned_set['MasVnrArea'].isna()\n",
    "cleaned_set.loc[mask, 'MasVnrArea'] = 0\n",
    "display_missing_values(cleaned_set)"
   ]
  },
  {
   "cell_type": "markdown",
   "metadata": {},
   "source": [
    "#### Handling FireplaceQu\n",
    "\n",
    "Same approach for *FireplaceQu*"
   ]
  },
  {
   "cell_type": "code",
   "execution_count": 16,
   "metadata": {},
   "outputs": [
    {
     "data": {
      "text/plain": [
       "array([nan, 'TA', 'Gd', 'Fa', 'Ex', 'Po'], dtype=object)"
      ]
     },
     "execution_count": 16,
     "metadata": {},
     "output_type": "execute_result"
    }
   ],
   "source": [
    "cleaned_set['FireplaceQu'].unique()"
   ]
  },
  {
   "cell_type": "code",
   "execution_count": 17,
   "metadata": {},
   "outputs": [
    {
     "name": "stdout",
     "output_type": "stream",
     "text": [
      "              Missing_Values\n",
      "MSZoning                   4\n",
      "LotFrontage              486\n",
      "Utilities                  2\n",
      "Exterior1st                1\n",
      "Exterior2nd                1\n",
      "BsmtCond                   3\n",
      "BsmtExposure               3\n",
      "BsmtFinSF1                 1\n",
      "BsmtFinType2               1\n",
      "BsmtFinSF2                 1\n",
      "BsmtUnfSF                  1\n",
      "TotalBsmtSF                1\n",
      "Electrical                 1\n",
      "BsmtFullBath               2\n",
      "BsmtHalfBath               2\n",
      "KitchenQual                1\n",
      "Functional                 2\n",
      "GarageYrBlt                2\n",
      "GarageFinish               2\n",
      "GarageCars                 1\n",
      "GarageArea                 1\n",
      "GarageQual                 2\n",
      "GarageCond                 2\n",
      "PoolQC                  2909\n",
      "Fence                   2348\n",
      "MiscFeature             2814\n",
      "SaleType                   1\n",
      "SalePrice               1459\n"
     ]
    }
   ],
   "source": [
    "# Creating a indicator column\n",
    "cleaned_set = cleaned_set.assign(FireplaceIncluded=training_set['FireplaceQu'].notna())\n",
    "\n",
    "mask = cleaned_set['FireplaceQu'].isna()\n",
    "cleaned_set.loc[mask, 'FireplaceQu'] = 'No_FireplaceQu'\n",
    "\n",
    "display_missing_values(cleaned_set)"
   ]
  },
  {
   "cell_type": "markdown",
   "metadata": {},
   "source": [
    "#### Handling PoolQC\n",
    "\n",
    "Same approach for *PoolQC*"
   ]
  },
  {
   "cell_type": "code",
   "execution_count": 18,
   "metadata": {},
   "outputs": [
    {
     "data": {
      "text/plain": [
       "array([nan, 'Ex', 'Fa', 'Gd'], dtype=object)"
      ]
     },
     "execution_count": 18,
     "metadata": {},
     "output_type": "execute_result"
    }
   ],
   "source": [
    "cleaned_set['PoolQC'].unique()"
   ]
  },
  {
   "cell_type": "code",
   "execution_count": 19,
   "metadata": {},
   "outputs": [
    {
     "name": "stdout",
     "output_type": "stream",
     "text": [
      "              Missing_Values\n",
      "MSZoning                   4\n",
      "LotFrontage              486\n",
      "Utilities                  2\n",
      "Exterior1st                1\n",
      "Exterior2nd                1\n",
      "BsmtCond                   3\n",
      "BsmtExposure               3\n",
      "BsmtFinSF1                 1\n",
      "BsmtFinType2               1\n",
      "BsmtFinSF2                 1\n",
      "BsmtUnfSF                  1\n",
      "TotalBsmtSF                1\n",
      "Electrical                 1\n",
      "BsmtFullBath               2\n",
      "BsmtHalfBath               2\n",
      "KitchenQual                1\n",
      "Functional                 2\n",
      "GarageYrBlt                2\n",
      "GarageFinish               2\n",
      "GarageCars                 1\n",
      "GarageArea                 1\n",
      "GarageQual                 2\n",
      "GarageCond                 2\n",
      "Fence                   2348\n",
      "MiscFeature             2814\n",
      "SaleType                   1\n",
      "SalePrice               1459\n"
     ]
    }
   ],
   "source": [
    "# Creating a indicator column\n",
    "cleaned_set = cleaned_set.assign(PoolIncluded=training_set['PoolQC'].notna())\n",
    "\n",
    "mask = cleaned_set['PoolQC'].isna()\n",
    "cleaned_set.loc[mask, 'PoolQC'] = 'No_PoolQC'\n",
    "\n",
    "display_missing_values(cleaned_set)"
   ]
  },
  {
   "cell_type": "markdown",
   "metadata": {},
   "source": [
    "#### Handling Fence\n",
    "\n",
    "Same approach for *Fence*"
   ]
  },
  {
   "cell_type": "code",
   "execution_count": 20,
   "metadata": {},
   "outputs": [
    {
     "data": {
      "text/plain": [
       "array([nan, 'MnPrv', 'GdWo', 'GdPrv', 'MnWw'], dtype=object)"
      ]
     },
     "execution_count": 20,
     "metadata": {},
     "output_type": "execute_result"
    }
   ],
   "source": [
    "cleaned_set['Fence'].unique()"
   ]
  },
  {
   "cell_type": "code",
   "execution_count": 21,
   "metadata": {},
   "outputs": [
    {
     "name": "stdout",
     "output_type": "stream",
     "text": [
      "              Missing_Values\n",
      "MSZoning                   4\n",
      "LotFrontage              486\n",
      "Utilities                  2\n",
      "Exterior1st                1\n",
      "Exterior2nd                1\n",
      "BsmtCond                   3\n",
      "BsmtExposure               3\n",
      "BsmtFinSF1                 1\n",
      "BsmtFinType2               1\n",
      "BsmtFinSF2                 1\n",
      "BsmtUnfSF                  1\n",
      "TotalBsmtSF                1\n",
      "Electrical                 1\n",
      "BsmtFullBath               2\n",
      "BsmtHalfBath               2\n",
      "KitchenQual                1\n",
      "Functional                 2\n",
      "GarageYrBlt                2\n",
      "GarageFinish               2\n",
      "GarageCars                 1\n",
      "GarageArea                 1\n",
      "GarageQual                 2\n",
      "GarageCond                 2\n",
      "MiscFeature             2814\n",
      "SaleType                   1\n",
      "SalePrice               1459\n"
     ]
    }
   ],
   "source": [
    "# Creating a indicator column\n",
    "cleaned_set = cleaned_set.assign(FenceIncluded=training_set['Fence'].notna())\n",
    "\n",
    "mask = cleaned_set['Fence'].isna()\n",
    "cleaned_set.loc[mask, 'Fence'] = 'No_Fence'\n",
    "\n",
    "display_missing_values(cleaned_set)"
   ]
  },
  {
   "cell_type": "markdown",
   "metadata": {},
   "source": [
    "#### Handling MiscFeature\n",
    "\n",
    "Same approach for *MiscFeature*"
   ]
  },
  {
   "cell_type": "code",
   "execution_count": 22,
   "metadata": {},
   "outputs": [
    {
     "data": {
      "text/plain": [
       "array([nan, 'Shed', 'Gar2', 'Othr', 'TenC'], dtype=object)"
      ]
     },
     "execution_count": 22,
     "metadata": {},
     "output_type": "execute_result"
    }
   ],
   "source": [
    "cleaned_set['MiscFeature'].unique()"
   ]
  },
  {
   "cell_type": "code",
   "execution_count": 23,
   "metadata": {},
   "outputs": [
    {
     "name": "stdout",
     "output_type": "stream",
     "text": [
      "              Missing_Values\n",
      "MSZoning                   4\n",
      "LotFrontage              486\n",
      "Utilities                  2\n",
      "Exterior1st                1\n",
      "Exterior2nd                1\n",
      "BsmtCond                   3\n",
      "BsmtExposure               3\n",
      "BsmtFinSF1                 1\n",
      "BsmtFinType2               1\n",
      "BsmtFinSF2                 1\n",
      "BsmtUnfSF                  1\n",
      "TotalBsmtSF                1\n",
      "Electrical                 1\n",
      "BsmtFullBath               2\n",
      "BsmtHalfBath               2\n",
      "KitchenQual                1\n",
      "Functional                 2\n",
      "GarageYrBlt                2\n",
      "GarageFinish               2\n",
      "GarageCars                 1\n",
      "GarageArea                 1\n",
      "GarageQual                 2\n",
      "GarageCond                 2\n",
      "SaleType                   1\n",
      "SalePrice               1459\n"
     ]
    }
   ],
   "source": [
    "# Creating a indicator column\n",
    "cleaned_set = cleaned_set.assign(MiscFeatureIncluded=training_set['MiscFeature'].notna())\n",
    "\n",
    "mask = cleaned_set['MiscFeature'].isna()\n",
    "cleaned_set.loc[mask, 'MiscFeature'] = str('NA')\n",
    "\n",
    "display_missing_values(cleaned_set)"
   ]
  },
  {
   "cell_type": "markdown",
   "metadata": {},
   "source": [
    "#### Handling LotFrontage\n",
    "\n",
    "Since not all housing properties have lot frontage, such as apartments, it would be better to preserve the implication in the original dataset, instead of making up an approximate value."
   ]
  },
  {
   "cell_type": "code",
   "execution_count": 52,
   "metadata": {},
   "outputs": [
    {
     "name": "stdout",
     "output_type": "stream",
     "text": [
      "              Missing_Values\n",
      "MSZoning                   4\n",
      "Utilities                  2\n",
      "Exterior1st                1\n",
      "Exterior2nd                1\n",
      "BsmtCond                   3\n",
      "BsmtExposure               3\n",
      "BsmtFinSF1                 1\n",
      "BsmtFinType2               1\n",
      "BsmtFinSF2                 1\n",
      "BsmtUnfSF                  1\n",
      "TotalBsmtSF                1\n",
      "Electrical                 1\n",
      "BsmtFullBath               2\n",
      "BsmtHalfBath               2\n",
      "KitchenQual                1\n",
      "Functional                 2\n",
      "GarageYrBlt                2\n",
      "GarageFinish               2\n",
      "GarageCars                 1\n",
      "GarageArea                 1\n",
      "GarageQual                 2\n",
      "GarageCond                 2\n",
      "SaleType                   1\n",
      "SalePrice               1459\n"
     ]
    }
   ],
   "source": [
    "mask = cleaned_set['LotFrontage'].isna()\n",
    "cleaned_set.loc[mask, 'LotFrontage'] = 0\n",
    "\n",
    "display_missing_values(cleaned_set)"
   ]
  },
  {
   "cell_type": "markdown",
   "metadata": {},
   "source": [
    "#### Handling MSZoning"
   ]
  },
  {
   "cell_type": "code",
   "execution_count": 51,
   "metadata": {},
   "outputs": [
    {
     "name": "stdout",
     "output_type": "stream",
     "text": [
      "455     1916\n",
      "756     2217\n",
      "790     2251\n",
      "1444    2905\n",
      "Name: Id, dtype: int64\n"
     ]
    }
   ],
   "source": [
    "mask = cleaned_set['MSZoning'].isna()\n",
    "print(f'{cleaned_set.loc[mask, 'Id']}')"
   ]
  },
  {
   "cell_type": "code",
   "execution_count": 33,
   "metadata": {},
   "outputs": [
    {
     "name": "stdout",
     "output_type": "stream",
     "text": [
      "All Belong to training set? Index([455, 756, 790, 1444], dtype='int64')\n",
      "Training set length: 1460; Total length: 2919\n"
     ]
    }
   ],
   "source": [
    "# mask = cleaned_set['MSZoning'].isna()\n",
    "\n",
    "# # Seperating training and testing to preserve index\n",
    "# training = copy.deepcopy(cleaned_set.iloc[0:training_len])\n",
    "# mask = training['MSZoning'].isna()\n",
    "# training.drop(training.loc[mask].index, inplace=True)\n",
    "# training_len = len(training)    # Update new training set length \n",
    "\n",
    "# # Combining two sets \n",
    "# testing = cleaned_set.iloc[training_len:len(cleaned_set)] \n",
    "# cleaned_set = pd.concat([training, testing])\n",
    "\n",
    "# print(f'Training set length: {training_len}; Total length: {len(cleaned_set)}')"
   ]
  },
  {
   "cell_type": "markdown",
   "metadata": {},
   "source": [
    "### Standardising numerical features"
   ]
  },
  {
   "cell_type": "code",
   "execution_count": null,
   "metadata": {},
   "outputs": [],
   "source": [
    "# Getting numerical columns\n",
    "num_features = cleaned_set.select_dtypes(include=['number']).columns.drop('Id')\n",
    "num_features"
   ]
  },
  {
   "cell_type": "markdown",
   "metadata": {},
   "source": [
    "#### Plotting distributions of numerical features"
   ]
  },
  {
   "cell_type": "code",
   "execution_count": null,
   "metadata": {},
   "outputs": [],
   "source": [
    "def plot_dfs(features):\n",
    "    # Setting up subplots\n",
    "    plot_per_row = 4\n",
    "    rows = len(features) // plot_per_row\n",
    "    fig, axes = plt.subplots(rows+1, plot_per_row, figsize=(20, 6*rows))\n",
    "    axes = axes.flatten()\n",
    "\n",
    "    # Plotting each subplot\n",
    "    for i, feature in enumerate(features):\n",
    "        ax = axes[i]\n",
    "        ax.hist(cleaned_set[feature], bins=len(cleaned_set[feature].unique()))\n",
    "        ax.set_title(f'Distribution of {feature}')\n",
    "        ax.set_xlabel(feature)\n",
    "        ax.set_ylabel('Frequency')\n",
    "\n",
    "    # Turning off unused subplot\n",
    "    for j in range(i+1, len(axes)):\n",
    "        axes[j].axis('off')\n",
    "\n",
    "plot_dfs(num_features)"
   ]
  },
  {
   "cell_type": "markdown",
   "metadata": {},
   "source": [
    "#### Standardising suitable features\n",
    "\n",
    "Obsered in the plot of each feature's distribution, and it seems the following features should be standardised:\n",
    "*LotArea*, *BsmtFinSF1*, *TotalBsmtSF*, *1stFlrSF*, *GrLivArea*"
   ]
  },
  {
   "cell_type": "code",
   "execution_count": null,
   "metadata": {},
   "outputs": [],
   "source": [
    "standardised_features = ['LotArea', 'BsmtFinSF1', 'TotalBsmtSF', '1stFlrSF', 'GrLivArea']\n",
    "\n",
    "cleaned_set.loc[:, standardised_features] = StandardScaler().fit_transform(cleaned_set[standardised_features])\n",
    "testing_set.loc[:, standardised_features] = StandardScaler().fit_transform(testing_set[standardised_features])\n",
    "\n",
    "plot_dfs(standardised_features)"
   ]
  },
  {
   "cell_type": "markdown",
   "metadata": {},
   "source": [
    "#### Standardising target"
   ]
  },
  {
   "cell_type": "code",
   "execution_count": null,
   "metadata": {},
   "outputs": [],
   "source": [
    "cleaned_set.loc[:, 'SalePrice'] = np.log1p(cleaned_set[['SalePrice']])\n",
    "plt.plot(cleaned_set.loc[:, 'SalePrice'])"
   ]
  },
  {
   "cell_type": "markdown",
   "metadata": {},
   "source": [
    "### Encoding categorical features"
   ]
  },
  {
   "cell_type": "code",
   "execution_count": null,
   "metadata": {},
   "outputs": [],
   "source": [
    "# Getting categorical columns\n",
    "cat_cols = cleaned_set.select_dtypes(include=['object']).columns\n",
    "cat_cols"
   ]
  },
  {
   "cell_type": "markdown",
   "metadata": {},
   "source": [
    "#### Encoding categorical columns using OrdinalEncoder\n",
    "\n",
    "It is noted that not all categorical columns are ordinal features.\n",
    "\n",
    "Despite the added implication, it doesn't really matter that nominal values are treated as such."
   ]
  },
  {
   "cell_type": "code",
   "execution_count": null,
   "metadata": {},
   "outputs": [],
   "source": [
    "ord_enc = OrdinalEncoder()\n",
    "ord_enc.fit(cleaned_set.loc[:, cat_cols])\n",
    "encoded_cat = ord_enc.transform(cleaned_set.loc[:, cat_cols])\n",
    "encoded_cat"
   ]
  },
  {
   "cell_type": "code",
   "execution_count": null,
   "metadata": {},
   "outputs": [],
   "source": [
    "# Decoding categorical columns\n",
    "ord_enc.inverse_transform(encoded_cat)"
   ]
  },
  {
   "cell_type": "markdown",
   "metadata": {},
   "source": [
    "#### Subtituting encoded categorical features into the dataset"
   ]
  },
  {
   "cell_type": "code",
   "execution_count": null,
   "metadata": {},
   "outputs": [],
   "source": [
    "cleaned_set.loc[:, cat_cols] = encoded_cat\n",
    "cleaned_set.loc[:, cat_cols]"
   ]
  },
  {
   "cell_type": "code",
   "execution_count": null,
   "metadata": {},
   "outputs": [],
   "source": [
    "testing_set.loc[:, cat_cols] = ord_enc.transform(testing_set.loc[:, cat_cols])\n",
    "testing_set.loc[:, cat_cols]"
   ]
  },
  {
   "cell_type": "markdown",
   "metadata": {},
   "source": [
    "## Building model"
   ]
  },
  {
   "cell_type": "code",
   "execution_count": null,
   "metadata": {},
   "outputs": [],
   "source": [
    "max_depth = 10\n",
    "random_state = 0\n",
    "regr = RandomForestRegressor(max_depth=max_depth, random_state=random_state)\n",
    "regr = regr.fit(X=cleaned_set.drop(['Id', 'SalePrice'], axis=1), y=cleaned_set.loc[:, 'SalePrice'])\n",
    "regr.score(X=cleaned_set.drop(['Id', 'SalePrice'], axis=1), y=cleaned_set.loc[:, 'SalePrice'])"
   ]
  },
  {
   "cell_type": "markdown",
   "metadata": {},
   "source": [
    "## Converting testing set"
   ]
  },
  {
   "cell_type": "code",
   "execution_count": null,
   "metadata": {},
   "outputs": [],
   "source": [
    "y_pred = np.expm1(regr.predict(testing_set.drop('Id', axis=1)))\n",
    "y_true = pd.read_csv('../dataset/sample_submission.csv').drop('Id', axis=1)\n",
    "\n",
    "mean_squared_error(y_true, y_pred)"
   ]
  }
 ],
 "metadata": {
  "kernelspec": {
   "display_name": ".venv",
   "language": "python",
   "name": "python3"
  },
  "language_info": {
   "codemirror_mode": {
    "name": "ipython",
    "version": 3
   },
   "file_extension": ".py",
   "mimetype": "text/x-python",
   "name": "python",
   "nbconvert_exporter": "python",
   "pygments_lexer": "ipython3",
   "version": "3.13.1"
  }
 },
 "nbformat": 4,
 "nbformat_minor": 2
}
